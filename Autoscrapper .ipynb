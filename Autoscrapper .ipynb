{
 "cells": [
  {
   "cell_type": "code",
   "execution_count": null,
   "metadata": {},
   "outputs": [],
   "source": [
    "### install autoscraper"
   ]
  },
  {
   "cell_type": "code",
   "execution_count": 2,
   "metadata": {},
   "outputs": [
    {
     "name": "stdout",
     "output_type": "stream",
     "text": [
      "Collecting autoscraper\n",
      "  Downloading autoscraper-1.1.12-py3-none-any.whl (10 kB)\n",
      "Collecting bs4\n",
      "  Using cached bs4-0.0.1.tar.gz (1.1 kB)\n",
      "Requirement already satisfied: lxml in c:\\users\\ujwal\\anaconda3\\lib\\site-packages (from autoscraper) (4.6.1)\n",
      "Requirement already satisfied: requests in c:\\users\\ujwal\\anaconda3\\lib\\site-packages (from autoscraper) (2.24.0)\n",
      "Requirement already satisfied: beautifulsoup4 in c:\\users\\ujwal\\anaconda3\\lib\\site-packages (from bs4->autoscraper) (4.9.3)\n",
      "Requirement already satisfied: urllib3!=1.25.0,!=1.25.1,<1.26,>=1.21.1 in c:\\users\\ujwal\\anaconda3\\lib\\site-packages (from requests->autoscraper) (1.25.11)\n",
      "Requirement already satisfied: certifi>=2017.4.17 in c:\\users\\ujwal\\anaconda3\\lib\\site-packages (from requests->autoscraper) (2020.6.20)\n",
      "Requirement already satisfied: idna<3,>=2.5 in c:\\users\\ujwal\\anaconda3\\lib\\site-packages (from requests->autoscraper) (2.10)\n",
      "Requirement already satisfied: chardet<4,>=3.0.2 in c:\\users\\ujwal\\anaconda3\\lib\\site-packages (from requests->autoscraper) (3.0.4)\n",
      "Requirement already satisfied: soupsieve>1.2; python_version >= \"3.0\" in c:\\users\\ujwal\\anaconda3\\lib\\site-packages (from beautifulsoup4->bs4->autoscraper) (2.0.1)\n",
      "Building wheels for collected packages: bs4\n",
      "  Building wheel for bs4 (setup.py): started\n",
      "  Building wheel for bs4 (setup.py): finished with status 'done'\n",
      "  Created wheel for bs4: filename=bs4-0.0.1-py3-none-any.whl size=1277 sha256=8292314e3bd50c1346ba91c2c38e73c6de5cb92695d64b8d055e14ea394f5235\n",
      "  Stored in directory: c:\\users\\ujwal\\appdata\\local\\pip\\cache\\wheels\\75\\78\\21\\68b124549c9bdc94f822c02fb9aa3578a669843f9767776bca\n",
      "Successfully built bs4\n",
      "Installing collected packages: bs4, autoscraper\n",
      "Successfully installed autoscraper-1.1.12 bs4-0.0.1\n"
     ]
    }
   ],
   "source": [
    "!pip install autoscraper"
   ]
  },
  {
   "cell_type": "code",
   "execution_count": 4,
   "metadata": {},
   "outputs": [],
   "source": [
    "from autoscraper import AutoScraper"
   ]
  },
  {
   "cell_type": "code",
   "execution_count": 8,
   "metadata": {},
   "outputs": [
    {
     "name": "stdout",
     "output_type": "stream",
     "text": [
      "['39', '51', '12', '16', '26', '5', '2', '13', '7', '1', '88', '9', '379', '10', '52', '15', '6', '4', 'Deep-Learning-Car-Brand', 'Malaria-Detection', 'WaferFaultDetection', 'Google-Dialogflow-chatbots', 'Weather-Chatbot-Using-Luis', 'Phising-Classifier', 'Test', 'Image-Webscrapper', 'Pyspark-With-Python', 'Types-Of-Cross-Validation', 'Autoviz', 'Autoscrapper', 'Types-Of-Trnasformation', 'Pywebheroku', 'Car-Price-Prediction', 'Custom-object-Detection', 'Gradio', 'EVALML', 'Machine-Learning-in-90-days', 'Shapash-', 'Car-PricePrediction', 'BMI-Calculator', 'PyWebIO', 'Audio-Classification', 'texthero', 'Kubernet-Dockers', 'Dockers', 'Google-Cloud-Platform-Deployment', 'AzureDeployment', 'AQI-Deployment']\n"
     ]
    }
   ],
   "source": [
    "url = 'https://github.com/krishnaik06?tab=repositories'\n",
    "\n",
    "wanted_list = [\"88\",\"Car-Price-Prediction\"]\n",
    "\n",
    "scraper = AutoScraper()\n",
    "result = scraper.build(url, wanted_list)\n",
    "print(result)"
   ]
  },
  {
   "cell_type": "code",
   "execution_count": 10,
   "metadata": {},
   "outputs": [
    {
     "data": {
      "text/plain": [
       "{'rule_r65u': ['39',\n",
       "  '51',\n",
       "  '12',\n",
       "  '16',\n",
       "  '26',\n",
       "  '5',\n",
       "  '2',\n",
       "  '12',\n",
       "  '12',\n",
       "  '13',\n",
       "  '7',\n",
       "  '13',\n",
       "  '13',\n",
       "  '1',\n",
       "  '88',\n",
       "  '1',\n",
       "  '2',\n",
       "  '9',\n",
       "  '379',\n",
       "  '7',\n",
       "  '12',\n",
       "  '5',\n",
       "  '7',\n",
       "  '10',\n",
       "  '7',\n",
       "  '7',\n",
       "  '52',\n",
       "  '15',\n",
       "  '6',\n",
       "  '4'],\n",
       " 'rule_7j6s': ['Deep-Learning-Car-Brand',\n",
       "  'Malaria-Detection',\n",
       "  'WaferFaultDetection',\n",
       "  'Google-Dialogflow-chatbots',\n",
       "  'Weather-Chatbot-Using-Luis',\n",
       "  'Phising-Classifier',\n",
       "  'Test',\n",
       "  'Image-Webscrapper',\n",
       "  'Pyspark-With-Python',\n",
       "  'Types-Of-Cross-Validation',\n",
       "  'Autoviz',\n",
       "  'Autoscrapper',\n",
       "  'Types-Of-Trnasformation',\n",
       "  'Pywebheroku',\n",
       "  'Car-Price-Prediction',\n",
       "  'Custom-object-Detection',\n",
       "  'Gradio',\n",
       "  'EVALML',\n",
       "  'Machine-Learning-in-90-days',\n",
       "  'Shapash-',\n",
       "  'Car-PricePrediction',\n",
       "  'BMI-Calculator',\n",
       "  'PyWebIO',\n",
       "  'Audio-Classification',\n",
       "  'texthero',\n",
       "  'Kubernet-Dockers',\n",
       "  'Dockers',\n",
       "  'Google-Cloud-Platform-Deployment',\n",
       "  'AzureDeployment',\n",
       "  'AQI-Deployment']}"
      ]
     },
     "execution_count": 10,
     "metadata": {},
     "output_type": "execute_result"
    }
   ],
   "source": [
    "scraper.get_result_similar(\"https://github.com/krishnaik06?tab=repositories\",grouped =True)"
   ]
  },
  {
   "cell_type": "code",
   "execution_count": 11,
   "metadata": {},
   "outputs": [],
   "source": [
    "scraper.set_rule_aliases({'rule_r65u':'Stars','rule_7j6s':'Title'})\n",
    "scraper.keep_rules(['rule_r65u','rule_7j6s'])\n",
    "scraper.save('github-repository-search')"
   ]
  },
  {
   "cell_type": "code",
   "execution_count": 12,
   "metadata": {},
   "outputs": [],
   "source": [
    "scraper.load('github-repository-search')"
   ]
  },
  {
   "cell_type": "code",
   "execution_count": 15,
   "metadata": {},
   "outputs": [],
   "source": [
    "result =scraper.get_result_similar(\"https://github.com/iNeuronai?tab=repositories\",group_by_alias=True)"
   ]
  },
  {
   "cell_type": "code",
   "execution_count": 17,
   "metadata": {},
   "outputs": [
    {
     "data": {
      "text/plain": [
       "['chabot_video_codes',\n",
       " 'flaskWeatherApp',\n",
       " 'MachineLearningModelToPivotal',\n",
       " 'MachineLearningModelToAzure',\n",
       " 'MachineLearningModelToAWS',\n",
       " 'MachineLearningModelToGCP',\n",
       " 'MachineLearningModelToHeroku',\n",
       " 'same-resume-year-wise',\n",
       " 'interview-question-data-science-',\n",
       " 'sudhtest87435353',\n",
       " '-bigsparkrepo',\n",
       " 'deep-learning-drizzle\\n\\n\\n          Forked from kmario23/deep-learning-drizzle',\n",
       " 'Ineuron-Arhcitecture',\n",
       " 'zomatoEDA',\n",
       " 'A',\n",
       " 'assignmentrepo',\n",
       " 'allMLProjects',\n",
       " 'TimeSeries',\n",
       " 'assignemnt-',\n",
       " 'code',\n",
       " 'xyz',\n",
       " 'waffer-project',\n",
       " 'DeepLearningDocs',\n",
       " 'webscrappper_text',\n",
       " 'DecisionTrees',\n",
       " 'PrincipalComponentAnalysis',\n",
       " 'Working-with-MongoDB',\n",
       " 'imageScrapper\\n\\n\\n          Forked from viratsagar/imageScrapper',\n",
       " 'Chatbots_using_Dialogflow',\n",
       " 'AzureWeatherBot']"
      ]
     },
     "execution_count": 17,
     "metadata": {},
     "output_type": "execute_result"
    }
   ],
   "source": [
    "result['Title']"
   ]
  },
  {
   "cell_type": "code",
   "execution_count": null,
   "metadata": {},
   "outputs": [],
   "source": []
  },
  {
   "cell_type": "code",
   "execution_count": null,
   "metadata": {},
   "outputs": [],
   "source": []
  },
  {
   "cell_type": "code",
   "execution_count": null,
   "metadata": {},
   "outputs": [],
   "source": []
  },
  {
   "cell_type": "code",
   "execution_count": null,
   "metadata": {},
   "outputs": [],
   "source": []
  },
  {
   "cell_type": "code",
   "execution_count": null,
   "metadata": {},
   "outputs": [],
   "source": []
  },
  {
   "cell_type": "code",
   "execution_count": null,
   "metadata": {},
   "outputs": [],
   "source": []
  },
  {
   "cell_type": "code",
   "execution_count": null,
   "metadata": {},
   "outputs": [],
   "source": []
  },
  {
   "cell_type": "code",
   "execution_count": null,
   "metadata": {},
   "outputs": [],
   "source": [
    "similar(\"https://github.com/iNeuronai?tab=repositories\",group_by_alias=True)"
   ]
  },
  {
   "cell_type": "code",
   "execution_count": null,
   "metadata": {},
   "outputs": [],
   "source": []
  },
  {
   "cell_type": "code",
   "execution_count": null,
   "metadata": {},
   "outputs": [],
   "source": []
  },
  {
   "cell_type": "code",
   "execution_count": null,
   "metadata": {},
   "outputs": [],
   "source": []
  },
  {
   "cell_type": "code",
   "execution_count": null,
   "metadata": {},
   "outputs": [],
   "source": []
  },
  {
   "cell_type": "code",
   "execution_count": null,
   "metadata": {},
   "outputs": [],
   "source": []
  },
  {
   "cell_type": "code",
   "execution_count": null,
   "metadata": {},
   "outputs": [],
   "source": []
  },
  {
   "cell_type": "code",
   "execution_count": null,
   "metadata": {},
   "outputs": [],
   "source": []
  },
  {
   "cell_type": "code",
   "execution_count": null,
   "metadata": {},
   "outputs": [],
   "source": []
  },
  {
   "cell_type": "code",
   "execution_count": null,
   "metadata": {},
   "outputs": [],
   "source": []
  }
 ],
 "metadata": {
  "kernelspec": {
   "display_name": "Python 3",
   "language": "python",
   "name": "python3"
  },
  "language_info": {
   "codemirror_mode": {
    "name": "ipython",
    "version": 3
   },
   "file_extension": ".py",
   "mimetype": "text/x-python",
   "name": "python",
   "nbconvert_exporter": "python",
   "pygments_lexer": "ipython3",
   "version": "3.8.5"
  }
 },
 "nbformat": 4,
 "nbformat_minor": 4
}
